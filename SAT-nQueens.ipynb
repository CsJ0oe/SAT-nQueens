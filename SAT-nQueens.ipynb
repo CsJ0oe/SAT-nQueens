{
  "nbformat": 4,
  "nbformat_minor": 0,
  "metadata": {
    "colab": {
      "name": "AI-nqueensSAT.ipynb",
      "provenance": [],
      "collapsed_sections": []
    },
    "kernelspec": {
      "name": "python3",
      "display_name": "Python 3"
    }
  },
  "cells": [
    {
      "cell_type": "code",
      "metadata": {
        "colab": {
          "base_uri": "https://localhost:8080/"
        },
        "id": "0aVJ_9iebJwX",
        "outputId": "a8d9a85a-dc34-483b-a2c7-16a3d52abfba"
      },
      "source": [
        "!wget https://www.labri.fr/perso/lsimon/option-ia/Search/Master-Class-SAT/pysat.zip\r\n",
        "!unzip -o pysat\r\n",
        "!mv lorensi-pysat-8625ab1d6cdf/src/* ."
      ],
      "execution_count": null,
      "outputs": [
        {
          "output_type": "stream",
          "text": [
            "--2021-01-04 18:32:49--  https://www.labri.fr/perso/lsimon/option-ia/Search/Master-Class-SAT/pysat.zip\n",
            "Resolving www.labri.fr (www.labri.fr)... 147.210.8.59, 2001:660:6101:404::80\n",
            "Connecting to www.labri.fr (www.labri.fr)|147.210.8.59|:443... connected.\n",
            "HTTP request sent, awaiting response... 200 OK\n",
            "Length: 1535196 (1.5M) [application/zip]\n",
            "Saving to: ‘pysat.zip.2’\n",
            "\n",
            "pysat.zip.2         100%[===================>]   1.46M  1.99MB/s    in 0.7s    \n",
            "\n",
            "2021-01-04 18:32:50 (1.99 MB/s) - ‘pysat.zip.2’ saved [1535196/1535196]\n",
            "\n",
            "Archive:  pysat.zip\n",
            "  inflating: lorensi-pysat-8625ab1d6cdf/.hg_archival.txt  \n",
            "  inflating: lorensi-pysat-8625ab1d6cdf/README.md  \n",
            "  inflating: lorensi-pysat-8625ab1d6cdf/examples/BMC-Unsat/README  \n",
            "  inflating: lorensi-pysat-8625ab1d6cdf/examples/BMC-Unsat/barrel2.cnf.gz  \n",
            "  inflating: lorensi-pysat-8625ab1d6cdf/examples/BMC-Unsat/barrel3.cnf.gz  \n",
            "  inflating: lorensi-pysat-8625ab1d6cdf/examples/BMC-Unsat/barrel4.cnf.gz  \n",
            "  inflating: lorensi-pysat-8625ab1d6cdf/examples/BMC-Unsat/barrel5.cnf.gz  \n",
            "  inflating: lorensi-pysat-8625ab1d6cdf/examples/BMC-Unsat/barrel6.cnf.gz  \n",
            "  inflating: lorensi-pysat-8625ab1d6cdf/examples/BMC-Unsat/barrel7.cnf.gz  \n",
            "  inflating: lorensi-pysat-8625ab1d6cdf/examples/BMC-Unsat/barrel8.cnf.gz  \n",
            "  inflating: lorensi-pysat-8625ab1d6cdf/examples/BMC-Unsat/barrel9.cnf.gz  \n",
            "  inflating: lorensi-pysat-8625ab1d6cdf/examples/BMC-Unsat/longmult0.cnf.gz  \n",
            "  inflating: lorensi-pysat-8625ab1d6cdf/examples/BMC-Unsat/longmult1.cnf.gz  \n",
            "  inflating: lorensi-pysat-8625ab1d6cdf/examples/BMC-Unsat/longmult10.cnf.gz  \n",
            "  inflating: lorensi-pysat-8625ab1d6cdf/examples/BMC-Unsat/longmult11.cnf.gz  \n",
            "  inflating: lorensi-pysat-8625ab1d6cdf/examples/BMC-Unsat/longmult12.cnf.gz  \n",
            "  inflating: lorensi-pysat-8625ab1d6cdf/examples/BMC-Unsat/longmult13.cnf.gz  \n",
            "  inflating: lorensi-pysat-8625ab1d6cdf/examples/BMC-Unsat/longmult14.cnf.gz  \n",
            "  inflating: lorensi-pysat-8625ab1d6cdf/examples/BMC-Unsat/longmult15.cnf.gz  \n",
            "  inflating: lorensi-pysat-8625ab1d6cdf/examples/BMC-Unsat/longmult2.cnf.gz  \n",
            "  inflating: lorensi-pysat-8625ab1d6cdf/examples/BMC-Unsat/longmult3.cnf.gz  \n",
            "  inflating: lorensi-pysat-8625ab1d6cdf/examples/BMC-Unsat/longmult4.cnf.gz  \n",
            "  inflating: lorensi-pysat-8625ab1d6cdf/examples/BMC-Unsat/longmult5.cnf.gz  \n",
            "  inflating: lorensi-pysat-8625ab1d6cdf/examples/BMC-Unsat/longmult6.cnf.gz  \n",
            "  inflating: lorensi-pysat-8625ab1d6cdf/examples/BMC-Unsat/longmult7.cnf.gz  \n",
            "  inflating: lorensi-pysat-8625ab1d6cdf/examples/BMC-Unsat/longmult8.cnf.gz  \n",
            "  inflating: lorensi-pysat-8625ab1d6cdf/examples/BMC-Unsat/longmult9.cnf.gz  \n",
            "  inflating: lorensi-pysat-8625ab1d6cdf/examples/BMC-Unsat/queueinvar10.cnf.gz  \n",
            "  inflating: lorensi-pysat-8625ab1d6cdf/examples/BMC-Unsat/queueinvar12.cnf.gz  \n",
            "  inflating: lorensi-pysat-8625ab1d6cdf/examples/BMC-Unsat/queueinvar14.cnf.gz  \n",
            "  inflating: lorensi-pysat-8625ab1d6cdf/examples/BMC-Unsat/queueinvar16.cnf.gz  \n",
            "  inflating: lorensi-pysat-8625ab1d6cdf/examples/BMC-Unsat/queueinvar18.cnf.gz  \n",
            "  inflating: lorensi-pysat-8625ab1d6cdf/examples/BMC-Unsat/queueinvar2.cnf.gz  \n",
            "  inflating: lorensi-pysat-8625ab1d6cdf/examples/BMC-Unsat/queueinvar20.cnf.gz  \n",
            "  inflating: lorensi-pysat-8625ab1d6cdf/examples/BMC-Unsat/queueinvar4.cnf.gz  \n",
            "  inflating: lorensi-pysat-8625ab1d6cdf/examples/BMC-Unsat/queueinvar6.cnf.gz  \n",
            "  inflating: lorensi-pysat-8625ab1d6cdf/examples/BMC-Unsat/queueinvar8.cnf.gz  \n",
            "  inflating: lorensi-pysat-8625ab1d6cdf/examples/sample.cnf  \n",
            "  inflating: lorensi-pysat-8625ab1d6cdf/src/genRandom.py  \n",
            "  inflating: lorensi-pysat-8625ab1d6cdf/src/prettyPrinter.py  \n",
            "  inflating: lorensi-pysat-8625ab1d6cdf/src/pysat.py  \n",
            "  inflating: lorensi-pysat-8625ab1d6cdf/src/pysatdpll.py  \n",
            "  inflating: lorensi-pysat-8625ab1d6cdf/src/satboundedqueue.py  \n",
            "  inflating: lorensi-pysat-8625ab1d6cdf/src/satheapq.py  \n",
            "  inflating: lorensi-pysat-8625ab1d6cdf/src/sattypes.py  \n",
            "  inflating: lorensi-pysat-8625ab1d6cdf/src/satutils.py  \n"
          ],
          "name": "stdout"
        }
      ]
    },
    {
      "cell_type": "code",
      "metadata": {
        "id": "h-kz4WcYqY59"
      },
      "source": [
        "def gen_cnf(n):\n",
        "    cnf=[]\n",
        "    queen=[]\n",
        "    # gen variables\n",
        "    for i in range (n):\n",
        "      rowQueen=[]\n",
        "      for j in range (n):\n",
        "        rowQueen.append ((i*n+j+1))\n",
        "      queen.append(rowQueen)\n",
        "    # at least one queen per row and col\n",
        "    for i in range(n):\n",
        "        queenInRow=[]\n",
        "        queenInCol=[]\n",
        "        for j in range(n):\n",
        "            queenInRow.append(queen[i][j])\n",
        "            queenInCol.append(queen[j][i])\n",
        "        cnf.append(queenInRow)\n",
        "        cnf.append(queenInCol)\n",
        "    # only one queen per row / col\n",
        "    for i in range (n):\n",
        "        for j in range(n):\n",
        "            for k in range(j+1,n):\n",
        "              cnf.append([-queen[i][j],-queen[i][k]])\n",
        "    for i in range (n):\n",
        "        for j in range(n):\n",
        "            for k in range(i+1,n):\n",
        "              cnf.append([-queen[i][j],-queen[k][j]])\n",
        "    # only one queen per diag\n",
        "    for i in range (n):\n",
        "        for j in range (n):\n",
        "          for k in range (1,n):\n",
        "            if (i+k<n and j+k<n):\n",
        "              cnf.append([-queen[i][j],-queen[i+k][j+k]])\n",
        "            if (i-k>=0 and j+k<n):\n",
        "              cnf.append([-queen[i][j],-queen[i-k][j+k]])\n",
        "    return cnf"
      ],
      "execution_count": null,
      "outputs": []
    },
    {
      "cell_type": "code",
      "metadata": {
        "colab": {
          "base_uri": "https://localhost:8080/"
        },
        "id": "MoeN0M42sLiz",
        "outputId": "91d4066d-9616-4ef7-896c-145fc646716c"
      },
      "source": [
        "from pysat import Solver\r\n",
        "\r\n",
        "n = 8\r\n",
        "cnf = gen_cnf(nf)\r\n",
        "\r\n",
        "s=Solver()\r\n",
        "for i in cnf:\r\n",
        "  s.addClause(i)\r\n",
        "s.buildDataStructure()\r\n",
        "s.solve()\r\n",
        "\r\n",
        "solution = snt(solution)\r\n",
        " \r\n",
        "queen=[]\r\n",
        "for i in range (n):\r\n",
        "  rowQueen=[]\r\n",
        "  for j in range (n):\r\n",
        "    rowQueen.append (0)\r\n",
        "  queen.append(rowQueen)\r\n",
        "\r\n",
        "for i in solution:\r\n",
        "    if i >0:\r\n",
        "      x=i\r\n",
        "      queen[(x-1)//n][(x-1)%n]=\"Q\"\r\n",
        "    else:\r\n",
        "      x=int(-i)\r\n",
        "      queen[(x-1)//n][(x-1)%n]=\"-\"\r\n",
        "\r\n",
        "for i in queen :\r\n",
        "  print (i)"
      ],
      "execution_count": null,
      "outputs": [
        {
          "output_type": "stream",
          "text": [
            "c Building data structures in 0.00s\n",
            "c Ready to go with 64 variables and 744 clauses\n",
            "['-', '-', '-', 'Q', '-', '-', '-', '-']\n",
            "['-', 'Q', '-', '-', '-', '-', '-', '-']\n",
            "['-', '-', '-', '-', '-', '-', 'Q', '-']\n",
            "['-', '-', 'Q', '-', '-', '-', '-', '-']\n",
            "['-', '-', '-', '-', '-', 'Q', '-', '-']\n",
            "['-', '-', '-', '-', '-', '-', '-', 'Q']\n",
            "['-', '-', '-', '-', 'Q', '-', '-', '-']\n",
            "['Q', '-', '-', '-', '-', '-', '-', '-']\n"
          ],
          "name": "stdout"
        }
      ]
    }
  ]
}
